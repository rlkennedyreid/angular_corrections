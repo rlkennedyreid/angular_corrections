{
 "cells": [
  {
   "cell_type": "code",
   "execution_count": 1,
   "metadata": {
    "scrolled": true
   },
   "outputs": [],
   "source": [
    "import sys, string, os\n",
    "import subprocess\n",
    "import pandas as pd\n",
    "\n",
    "def get_quantity(quant, output):\n",
    "    start = output.find(\":\", output.find(quant)) + 1\n",
    "#     print(start, output[start])\n",
    "\n",
    "    stop = output.find(\"\\r\\n\", start)\n",
    "#     print(stop)\n",
    "    string_output[stop]\n",
    "    numba=output[start:stop]\n",
    "#     print(numba)\n",
    "    # start\n",
    "    # stop\n",
    "    # numba\n",
    "    return float(numba)\n",
    "\n"
   ]
  },
  {
   "cell_type": "code",
   "execution_count": 2,
   "metadata": {
    "scrolled": false
   },
   "outputs": [
    {
     "name": "stdout",
     "output_type": "stream",
     "text": [
      "['E:/Images/testppk/DJI_0604.JPG', 'E:/Images/testppk/DJI_0605.JPG', 'E:/Images/testppk/DJI_0606.JPG', 'E:/Images/testppk/DJI_0607.JPG', 'E:/Images/testppk/DJI_0608.JPG', 'E:/Images/testppk/DJI_0609.JPG', 'E:/Images/testppk/DJI_0610.JPG', 'E:/Images/testppk/DJI_0611.JPG', 'E:/Images/testppk/DJI_0612.JPG', 'E:/Images/testppk/DJI_0613.JPG', 'E:/Images/testppk/DJI_0614.JPG', 'E:/Images/testppk/DJI_0615.JPG', 'E:/Images/testppk/DJI_0616.JPG', 'E:/Images/testppk/DJI_0617.JPG', 'E:/Images/testppk/DJI_0618.JPG', 'E:/Images/testppk/DJI_0619.JPG', 'E:/Images/testppk/DJI_0620.JPG', 'E:/Images/testppk/DJI_0621.JPG', 'E:/Images/testppk/DJI_0622.JPG', 'E:/Images/testppk/DJI_0623.JPG', 'E:/Images/testppk/DJI_0624.JPG', 'E:/Images/testppk/DJI_0625.JPG', 'E:/Images/testppk/DJI_0626.JPG', 'E:/Images/testppk/DJI_0627.JPG', 'E:/Images/testppk/DJI_0628.JPG', 'E:/Images/testppk/DJI_0629.JPG', 'E:/Images/testppk/DJI_0630.JPG', 'E:/Images/testppk/DJI_0631.JPG', 'E:/Images/testppk/DJI_0632.JPG', 'E:/Images/testppk/DJI_0633.JPG', 'E:/Images/testppk/DJI_0634.JPG', 'E:/Images/testppk/DJI_0635.JPG', 'E:/Images/testppk/DJI_0636.JPG', 'E:/Images/testppk/DJI_0637.JPG', 'E:/Images/testppk/DJI_0638.JPG', 'E:/Images/testppk/DJI_0639.JPG', 'E:/Images/testppk/DJI_0640.JPG', 'E:/Images/testppk/DJI_0641.JPG', 'E:/Images/testppk/DJI_0642.JPG', 'E:/Images/testppk/DJI_0643.JPG', 'E:/Images/testppk/DJI_0644.JPG', 'E:/Images/testppk/DJI_0645.JPG', 'E:/Images/testppk/DJI_0646.JPG', 'E:/Images/testppk/DJI_0647.JPG', 'E:/Images/testppk/DJI_0648.JPG', 'E:/Images/testppk/DJI_0649.JPG', 'E:/Images/testppk/DJI_0650.JPG', 'E:/Images/testppk/DJI_0651.JPG', 'E:/Images/testppk/DJI_0652.JPG', 'E:/Images/testppk/DJI_0653.JPG', 'E:/Images/testppk/DJI_0654.JPG', 'E:/Images/testppk/DJI_0655.JPG', 'E:/Images/testppk/DJI_0656.JPG', 'E:/Images/testppk/DJI_0657.JPG', 'E:/Images/testppk/DJI_0658.JPG', 'E:/Images/testppk/DJI_0659.JPG', 'E:/Images/testppk/DJI_0660.JPG', 'E:/Images/testppk/DJI_0661.JPG', 'E:/Images/testppk/DJI_0662.JPG', 'E:/Images/testppk/DJI_0663.JPG', 'E:/Images/testppk/DJI_0664.JPG', 'E:/Images/testppk/DJI_0665.JPG', 'E:/Images/testppk/DJI_0666.JPG', 'E:/Images/testppk/DJI_0667.JPG', 'E:/Images/testppk/DJI_0668.JPG', 'E:/Images/testppk/DJI_0669.JPG', 'E:/Images/testppk/DJI_0670.JPG', 'E:/Images/testppk/DJI_0671.JPG', 'E:/Images/testppk/DJI_0672.JPG', 'E:/Images/testppk/DJI_0673.JPG', 'E:/Images/testppk/DJI_0674.JPG', 'E:/Images/testppk/DJI_0675.JPG', 'E:/Images/testppk/DJI_0676.JPG', 'E:/Images/testppk/DJI_0677.JPG', 'E:/Images/testppk/DJI_0678.JPG', 'E:/Images/testppk/DJI_0679.JPG', 'E:/Images/testppk/DJI_0680.JPG', 'E:/Images/testppk/DJI_0681.JPG', 'E:/Images/testppk/DJI_0682.JPG', 'E:/Images/testppk/DJI_0683.JPG', 'E:/Images/testppk/DJI_0684.JPG', 'E:/Images/testppk/DJI_0685.JPG', 'E:/Images/testppk/DJI_0686.JPG', 'E:/Images/testppk/DJI_0687.JPG', 'E:/Images/testppk/DJI_0688.JPG', 'E:/Images/testppk/DJI_0689.JPG', 'E:/Images/testppk/DJI_0690.JPG', 'E:/Images/testppk/DJI_0691.JPG', 'E:/Images/testppk/DJI_0692.JPG', 'E:/Images/testppk/DJI_0693.JPG', 'E:/Images/testppk/DJI_0694.JPG', 'E:/Images/testppk/DJI_0695.JPG', 'E:/Images/testppk/DJI_0696.JPG', 'E:/Images/testppk/DJI_0697.JPG', 'E:/Images/testppk/DJI_0698.JPG']\n"
     ]
    }
   ],
   "source": [
    "path = \"E:/Images/testppk/\"\n",
    "\n",
    "files = []\n",
    "# r=root, d=directories, f = files\n",
    "for r, d, f in os.walk(path):\n",
    "    for file in f:\n",
    "        if '.JPG' in file:\n",
    "            files.append(os.path.join(r, file))\n",
    "\n",
    "# for f in files:\n",
    "# print(files[-1])\n",
    "\n",
    "files = files[0:95]\n",
    "print(files)\n"
   ]
  },
  {
   "cell_type": "code",
   "execution_count": 3,
   "metadata": {},
   "outputs": [
    {
     "name": "stdout",
     "output_type": "stream",
     "text": [
      "[[0.1, 0.1, 178.2], [0.2, 0.1, 178.1], [-10.9, -2.7, 85.2], [-7.0, -1.4, 85.3], [-5.1, -1.7, 85.9], [-6.2, -1.6, 86.0], [-5.9, -1.9, 86.0], [-6.3, -1.7, 86.1], [-6.0, -1.4, 86.1], [-6.0, -1.4, 86.1], [-5.7, -1.7, 86.1], [-5.6, -1.6, 86.0], [-5.9, -1.4, 86.0], [-6.1, -1.8, 86.0], [-5.5, -2.3, 86.0], [-5.3, -1.3, 86.1], [-5.6, -1.7, 86.0], [-5.8, -1.9, 86.1], [-5.8, -1.1, 86.0], [-6.1, -1.8, 86.1], [-6.0, -1.1, 86.1], [-6.5, -1.6, 86.1], [-17.2, 9.6, -96.0], [-7.1, 1.8, -93.8], [-5.0, 1.7, -93.9], [-5.5, 1.4, -93.9], [-5.6, 1.6, -94.0], [-5.4, 1.8, -94.0], [-5.6, 1.9, -94.1], [-5.8, 2.0, -94.1], [-5.8, 1.7, -94.1], [-5.5, 1.8, -94.0], [-5.5, 2.2, -94.1], [-5.5, 1.7, -94.0], [-5.4, 1.4, -94.0], [-5.4, 1.5, -94.0], [-5.2, 1.3, -94.1], [-5.6, 1.3, -94.1], [-5.3, 1.7, -93.9], [-5.4, 1.7, -94.0], [-5.3, 1.6, -94.0], [-5.5, 1.4, -94.0], [-5.3, 1.5, -94.0], [11.1, -15.7, -100.8], [-11.1, -15.4, 95.7], [-5.2, -1.7, 85.4], [-6.0, -1.5, 85.9], [-5.8, -1.6, 86.0], [-6.1, -1.3, 86.1], [-6.4, -1.4, 86.1], [-6.3, -1.0, 86.1], [-6.1, -1.8, 86.0], [-6.3, -1.4, 86.0], [-6.1, -1.0, 86.1], [-5.7, -1.0, 86.0], [-6.0, -0.9, 86.0], [-5.9, -1.1, 86.0], [-6.4, -1.2, 86.0], [-6.7, -1.4, 86.0], [-5.6, -1.4, 86.1], [-5.9, -1.1, 86.0], [-5.8, -2.0, 86.1], [-6.1, -0.4, 86.1], [-6.1, -1.4, 86.1], [13.1, 1.8, 86.1], [-4.8, 5.6, -94.8], [-5.5, 1.0, -93.7], [-5.2, 1.3, -93.9], [-5.3, 1.4, -94.1], [-5.8, 1.4, -94.0], [-5.5, 1.7, -94.0], [-5.2, 1.5, -94.0], [-5.7, 1.4, -94.2], [-5.7, 1.6, -94.1], [-5.0, 1.5, -94.1], [-5.2, 1.4, -94.0], [-5.5, 1.6, -94.0], [-5.0, 1.4, -94.1], [-5.2, 1.6, -94.0], [-5.2, 1.7, -94.0], [-5.7, 1.4, -94.0], [8.9, -0.6, -93.7], [-14.0, -14.5, 93.6], [-5.5, -1.5, 85.4], [-5.7, -1.6, 85.8], [-6.2, -1.7, 86.0], [-6.0, -1.8, 86.0], [-6.2, -1.8, 86.1], [-6.1, -1.9, 86.1], [-5.5, -1.2, 86.1], [-5.9, -0.8, 86.2], [-6.0, -1.1, 86.0], [-6.0, -1.9, 86.0], [-6.2, -0.4, 86.2], [9.8, -1.0, 86.3]]\n"
     ]
    }
   ],
   "source": [
    "full_list = []\n",
    "for f in files:\n",
    "    bytes_output = subprocess.check_output([\"C:/Windows/exiftool.exe\", f])\n",
    "    string_output = bytes_output.decode(\"utf-8\")\n",
    "    one_row = [get_quantity(\"Pitch\", string_output), get_quantity(\"Roll\", string_output), get_quantity(\"Yaw\", string_output)]\n",
    "    full_list.append(one_row)\n",
    "print(full_list)\n",
    "#     print(one_row)"
   ]
  },
  {
   "cell_type": "code",
   "execution_count": 9,
   "metadata": {},
   "outputs": [],
   "source": [
    "# print(string_output)\n",
    "# print(get_quantity(\"Roll\", string_output))\n",
    "dfObj = pd.DataFrame(full_list, columns = ['Pitch' , 'Roll', 'Yaw']) #columns = ['Name' , 'Age', 'City'], index=['a', 'b', 'c']"
   ]
  },
  {
   "cell_type": "code",
   "execution_count": 14,
   "metadata": {},
   "outputs": [],
   "source": [
    "dfObj.to_csv(r'C:\\Users\\FC Geomatics\\Documents\\Rob_folder\\angular_corrections\\angles_output.csv', index=False)"
   ]
  }
 ],
 "metadata": {
  "kernelspec": {
   "display_name": "Python 3",
   "language": "python",
   "name": "python3"
  },
  "language_info": {
   "codemirror_mode": {
    "name": "ipython",
    "version": 3
   },
   "file_extension": ".py",
   "mimetype": "text/x-python",
   "name": "python",
   "nbconvert_exporter": "python",
   "pygments_lexer": "ipython3",
   "version": "3.7.3"
  }
 },
 "nbformat": 4,
 "nbformat_minor": 2
}
